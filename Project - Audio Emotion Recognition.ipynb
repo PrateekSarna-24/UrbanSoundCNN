{
 "cells": [
  {
   "cell_type": "markdown",
   "id": "4eb80210",
   "metadata": {},
   "source": [
    "#  Audio Emotion Recognition"
   ]
  },
  {
   "cell_type": "markdown",
   "id": "6d916774",
   "metadata": {},
   "source": [
    "> Audio emotion recognition is a field of artificial intelligence and signal processing that focuses on the automatic detection and analysis of human emotions from audio data, such as speech or music"
   ]
  },
  {
   "cell_type": "markdown",
   "id": "a2f74f47",
   "metadata": {},
   "source": [
    "### This Project Has Been Divided Into 9 Parts\n",
    "- Understanding \"Audio\" Data\n",
    "- Creating Metadata\n",
    "- Extracting Data\n",
    "- Exploring Data\n",
    "- Mel-frequency cepstral coefficients (MFCCs)\n",
    "- Processing Data for Deep Learning\n",
    "- Setting up Deep Learning Model\n",
    "- Training and Testing The Model\n",
    "- Results"
   ]
  },
  {
   "cell_type": "markdown",
   "id": "d88bfc00",
   "metadata": {},
   "source": [
    "## 1. Understanding \"Audio\" Data"
   ]
  },
  {
   "cell_type": "markdown",
   "id": "6aa57928",
   "metadata": {},
   "source": [
    "> \"Audio\" refers to sound, particularly in the form of vibrations or waves that travel through a medium, such as air, water, or solid objects\n",
    "#### How Sound is Represented?\n",
    "There are severel ways in which we can represent a sound wave. But the important ones are: \n",
    "- Time Domain\n",
    ">We usually represent the sound in the form of the waveform. The plot is made w.r.t \"Time\" & \"Amplitude\"\n",
    "<img src = \"waveform_img.png\" style = \"width:400px;height:200px\"/>\n",
    "- Frequency Domain\n",
    "> Here we represent the sound in the form of Spectogram. The plot is made w.r.t \"Frequency\" & \"Amplitude\" & \"Phase\"\n",
    "<img src = \"spectogram_img.png\" style = \"width:400px;height:200px\"/>"
   ]
  },
  {
   "cell_type": "markdown",
   "id": "44060ee8",
   "metadata": {},
   "source": [
    "## Importing Libraries"
   ]
  },
  {
   "cell_type": "code",
   "execution_count": 1,
   "id": "b193b0fd",
   "metadata": {},
   "outputs": [],
   "source": [
    "import os\n",
    "import librosa\n",
    "from librosa.display import waveshow\n",
    "from IPython.display import Audio\n",
    "import matplotlib.pyplot as plt\n",
    "import numpy as np\n",
    "import pandas as pd\n",
    "from scipy.io import wavfile\n",
    "import warnings\n",
    "from sklearn.model_selection import train_test_split\n",
    "import keras\n",
    "from keras.utils import to_categorical\n",
    "from keras.models import Sequential\n",
    "from keras.layers import Dense, Flatten, Dropout, Conv2D, MaxPooling2D, Conv1D, MaxPooling1D\n",
    "from sklearn.metrics import classification_report, confusion_matrix, accuracy_score\n",
    "from sklearn.metrics import classification_report, confusion_matrix, accuracy_score\n",
    "warnings.filterwarnings('ignore')"
   ]
  },
  {
   "cell_type": "markdown",
   "id": "4bf7fe0f",
   "metadata": {},
   "source": [
    "## 2. Creating Metadata"
   ]
  },
  {
   "cell_type": "markdown",
   "id": "ca258f94",
   "metadata": {},
   "source": [
    "#### Creating Metadata"
   ]
  },
  {
   "cell_type": "markdown",
   "id": "426236fd",
   "metadata": {},
   "source": [
    "The following recursive function traverses through each folder and file, and returns audio files in a list."
   ]
  },
  {
   "cell_type": "code",
   "execution_count": 2,
   "id": "6a7eaf90",
   "metadata": {},
   "outputs": [],
   "source": [
    "def get_metadata(path, list_of_files, class_) :\n",
    "    \n",
    "    ## list of all content in the folder\n",
    "    file_folder = os.listdir(path)\n",
    "    temp_class = class_\n",
    "    \n",
    "    ## travering each content\n",
    "    for content in file_folder :\n",
    "        ## if file then append\n",
    "        if '.wav' in content :\n",
    "            list_of_files.append((path + '/' + content, class_))\n",
    "        ## if folder, then make a recursive call\n",
    "        else :\n",
    "            temp_class += 1\n",
    "            get_metadata(path + '/' + content, list_of_files, temp_class)"
   ]
  },
  {
   "cell_type": "markdown",
   "id": "fe0a19be",
   "metadata": {},
   "source": [
    "#### Initializing Variables"
   ]
  },
  {
   "cell_type": "code",
   "execution_count": 3,
   "id": "f4994138",
   "metadata": {},
   "outputs": [],
   "source": [
    "path = r'TESS Toronto emotional speech set data'\n",
    "metadata = []\n",
    "class_initial = -1"
   ]
  },
  {
   "cell_type": "markdown",
   "id": "7466708c",
   "metadata": {},
   "source": [
    "#### Function Call"
   ]
  },
  {
   "cell_type": "code",
   "execution_count": 4,
   "id": "3ae8af42",
   "metadata": {},
   "outputs": [],
   "source": [
    "get_metadata(path, metadata, class_initial)"
   ]
  },
  {
   "cell_type": "markdown",
   "id": "16a5fcac",
   "metadata": {},
   "source": [
    "#### Metadata"
   ]
  },
  {
   "cell_type": "code",
   "execution_count": 5,
   "id": "c9aef949",
   "metadata": {},
   "outputs": [
    {
     "data": {
      "text/html": [
       "<div>\n",
       "<style scoped>\n",
       "    .dataframe tbody tr th:only-of-type {\n",
       "        vertical-align: middle;\n",
       "    }\n",
       "\n",
       "    .dataframe tbody tr th {\n",
       "        vertical-align: top;\n",
       "    }\n",
       "\n",
       "    .dataframe thead th {\n",
       "        text-align: right;\n",
       "    }\n",
       "</style>\n",
       "<table border=\"1\" class=\"dataframe\">\n",
       "  <thead>\n",
       "    <tr style=\"text-align: right;\">\n",
       "      <th></th>\n",
       "      <th>File_name</th>\n",
       "      <th>class</th>\n",
       "    </tr>\n",
       "  </thead>\n",
       "  <tbody>\n",
       "    <tr>\n",
       "      <th>0</th>\n",
       "      <td>TESS Toronto emotional speech set data/OAF_ang...</td>\n",
       "      <td>0</td>\n",
       "    </tr>\n",
       "    <tr>\n",
       "      <th>1</th>\n",
       "      <td>TESS Toronto emotional speech set data/OAF_ang...</td>\n",
       "      <td>0</td>\n",
       "    </tr>\n",
       "    <tr>\n",
       "      <th>2</th>\n",
       "      <td>TESS Toronto emotional speech set data/OAF_ang...</td>\n",
       "      <td>0</td>\n",
       "    </tr>\n",
       "    <tr>\n",
       "      <th>3</th>\n",
       "      <td>TESS Toronto emotional speech set data/OAF_ang...</td>\n",
       "      <td>0</td>\n",
       "    </tr>\n",
       "    <tr>\n",
       "      <th>4</th>\n",
       "      <td>TESS Toronto emotional speech set data/OAF_ang...</td>\n",
       "      <td>0</td>\n",
       "    </tr>\n",
       "    <tr>\n",
       "      <th>...</th>\n",
       "      <td>...</td>\n",
       "      <td>...</td>\n",
       "    </tr>\n",
       "    <tr>\n",
       "      <th>2795</th>\n",
       "      <td>TESS Toronto emotional speech set data/YAF_sad...</td>\n",
       "      <td>13</td>\n",
       "    </tr>\n",
       "    <tr>\n",
       "      <th>2796</th>\n",
       "      <td>TESS Toronto emotional speech set data/YAF_sad...</td>\n",
       "      <td>13</td>\n",
       "    </tr>\n",
       "    <tr>\n",
       "      <th>2797</th>\n",
       "      <td>TESS Toronto emotional speech set data/YAF_sad...</td>\n",
       "      <td>13</td>\n",
       "    </tr>\n",
       "    <tr>\n",
       "      <th>2798</th>\n",
       "      <td>TESS Toronto emotional speech set data/YAF_sad...</td>\n",
       "      <td>13</td>\n",
       "    </tr>\n",
       "    <tr>\n",
       "      <th>2799</th>\n",
       "      <td>TESS Toronto emotional speech set data/YAF_sad...</td>\n",
       "      <td>13</td>\n",
       "    </tr>\n",
       "  </tbody>\n",
       "</table>\n",
       "<p>2800 rows × 2 columns</p>\n",
       "</div>"
      ],
      "text/plain": [
       "                                              File_name  class\n",
       "0     TESS Toronto emotional speech set data/OAF_ang...      0\n",
       "1     TESS Toronto emotional speech set data/OAF_ang...      0\n",
       "2     TESS Toronto emotional speech set data/OAF_ang...      0\n",
       "3     TESS Toronto emotional speech set data/OAF_ang...      0\n",
       "4     TESS Toronto emotional speech set data/OAF_ang...      0\n",
       "...                                                 ...    ...\n",
       "2795  TESS Toronto emotional speech set data/YAF_sad...     13\n",
       "2796  TESS Toronto emotional speech set data/YAF_sad...     13\n",
       "2797  TESS Toronto emotional speech set data/YAF_sad...     13\n",
       "2798  TESS Toronto emotional speech set data/YAF_sad...     13\n",
       "2799  TESS Toronto emotional speech set data/YAF_sad...     13\n",
       "\n",
       "[2800 rows x 2 columns]"
      ]
     },
     "execution_count": 5,
     "metadata": {},
     "output_type": "execute_result"
    }
   ],
   "source": [
    "metadata = pd.DataFrame(metadata, columns = ['File_name', 'class'])\n",
    "metadata"
   ]
  },
  {
   "cell_type": "markdown",
   "id": "7216239a",
   "metadata": {},
   "source": [
    "## 3. Extracting Data"
   ]
  },
  {
   "cell_type": "markdown",
   "id": "6dd0fb44",
   "metadata": {},
   "source": [
    "The Following Function loads the audio files and return the Audio Signals"
   ]
  },
  {
   "cell_type": "code",
   "execution_count": 6,
   "id": "ef77f00c",
   "metadata": {},
   "outputs": [],
   "source": [
    "def return_audio(files) :\n",
    "    \n",
    "    ## audio signals is the array of all the loaded audio files.\n",
    "    audio_signals = []\n",
    "    \n",
    "    for file_path in files :\n",
    "        ## the load() returns the array of signal and sample rate w.r.t time, for any audio file.\n",
    "        audio, sample_rate = librosa.load(file_path)\n",
    "        audio_signals.append(audio)\n",
    "    \n",
    "    return audio_signals"
   ]
  },
  {
   "cell_type": "code",
   "execution_count": 7,
   "id": "ad6b50f3",
   "metadata": {},
   "outputs": [],
   "source": [
    "audio_signals = return_audio(np.array(metadata['File_name']))"
   ]
  },
  {
   "cell_type": "code",
   "execution_count": 8,
   "id": "a58de43b",
   "metadata": {},
   "outputs": [],
   "source": [
    "## defining constant sample rate\n",
    "sample_rate = 22050"
   ]
  },
  {
   "cell_type": "markdown",
   "id": "4c4d29ac",
   "metadata": {},
   "source": [
    "## 4. Exploring Data"
   ]
  },
  {
   "cell_type": "code",
   "execution_count": 9,
   "id": "9120c717",
   "metadata": {},
   "outputs": [
    {
     "data": {
      "text/plain": [
       "[-8.197307e-06,\n",
       " 1.4192925e-05,\n",
       " 5.4431206e-05,\n",
       " 2.9247785e-05,\n",
       " 2.9435998e-05,\n",
       " 4.018279e-05,\n",
       " 0.00010647168,\n",
       " 6.9360045e-05,\n",
       " -3.882502e-05,\n",
       " 1.034311e-05]"
      ]
     },
     "execution_count": 9,
     "metadata": {},
     "output_type": "execute_result"
    }
   ],
   "source": [
    "sample_audio = audio_signals[int(np.random.random() * 100)]\n",
    "list(sample_audio[:10])"
   ]
  },
  {
   "cell_type": "code",
   "execution_count": 10,
   "id": "de8c2120",
   "metadata": {
    "scrolled": false
   },
   "outputs": [
    {
     "data": {
      "text/html": [
       "\n",
       "                <audio  controls=\"controls\" >\n",
       "                    <source src=\"data:audio/wav;base64,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\" type=\"audio/wav\" />\n",
       "                    Your browser does not support the audio element.\n",
       "                </audio>\n",
       "              "
      ],
      "text/plain": [
       "<IPython.lib.display.Audio object>"
      ]
     },
     "execution_count": 10,
     "metadata": {},
     "output_type": "execute_result"
    },
    {
     "data": {
      "image/png": "[encoded data removed]",
      "text/plain": [
       "<Figure size 800x200 with 1 Axes>"
      ]
     },
     "metadata": {},
     "output_type": "display_data"
    }
   ],
   "source": [
    "plt.figure(figsize=(8,2))\n",
    "waveshow(sample_audio, sr = sample_rate)\n",
    "Audio(data = sample_audio, rate = sample_rate)"
   ]
  },
  {
   "cell_type": "markdown",
   "id": "03f0e4ce",
   "metadata": {},
   "source": [
    "- The above signal is of TIME DOMAIN\n",
    "> The follwing audio file is converted into an array of signals.\n",
    "- Note: The Audio Signals are represented in the form of array of amplitude in each time instance\n",
    "<img src = \"waveform load.png\" style = \"width:400px;height:200px\"/>"
   ]
  },
  {
   "cell_type": "markdown",
   "id": "40ec19b7",
   "metadata": {},
   "source": [
    "## 5. Mel-frequency cepstral coefficients (MFCCs) "
   ]
  },
  {
   "cell_type": "markdown",
   "id": "d4381533",
   "metadata": {},
   "source": [
    "\n",
    "Mel-Frequency Cepstral Coefficients (MFCCs) are a crucial feature extraction technique widely used in the field of audio signal processing and speech recognition. They are particularly important due to their effectiveness in capturing essential patterns and characteristics in audio signals, especially for speech and audio analysis tasks. Here's an explanation of their importance and how they capture patterns in audio\n",
    "\n",
    "MFCCs are needed to Capture Patterns in Audio:\n",
    "\n",
    "- MFCCs capture patterns in audio by breaking down the audio signal into frames (typically around 20-30 milliseconds each).\n",
    "\n",
    "- For each frame, a Fourier Transform is applied to compute the power spectrum of the signal.\n",
    "\n",
    "- The power spectrum is then filtered through a bank of Mel filters, which approximate human auditory perception.\n",
    "\n",
    "- After filtering, the logarithm of the filter bank outputs is taken, followed by a Discrete Cosine Transform (DCT) to obtain the MFCC coefficients.\n",
    "\n",
    "- These coefficients represent the audio signal's spectral content for each frame.\n",
    "\n",
    "<img src = \"mfccs_img.png\" style = \"width:600;height:400px\"/>"
   ]
  },
  {
   "cell_type": "markdown",
   "id": "8fe653f7",
   "metadata": {},
   "source": [
    "#### Extracting MFCCs from Audio Files"
   ]
  },
  {
   "cell_type": "code",
   "execution_count": 11,
   "id": "e241c52f",
   "metadata": {},
   "outputs": [],
   "source": [
    "def extract_MFCCs(audio_signal, sample_rate) :\n",
    "    mfccs = (librosa.feature.mfcc(y = audio_signal, sr = sample_rate, n_mfcc = 13)).T\n",
    "    mfccs = np.mean(mfccs, axis = 0)\n",
    "    return mfccs"
   ]
  },
  {
   "cell_type": "code",
   "execution_count": 12,
   "id": "72a6dafa",
   "metadata": {},
   "outputs": [],
   "source": [
    "sample_rate = 22050\n",
    "mfccs = list()\n",
    "for audio in audio_signals :\n",
    "    mfccs.append(extract_MFCCs(audio , sample_rate))"
   ]
  },
  {
   "cell_type": "code",
   "execution_count": 13,
   "id": "46bba601",
   "metadata": {},
   "outputs": [
    {
     "data": {
      "text/html": [
       "<div>\n",
       "<style scoped>\n",
       "    .dataframe tbody tr th:only-of-type {\n",
       "        vertical-align: middle;\n",
       "    }\n",
       "\n",
       "    .dataframe tbody tr th {\n",
       "        vertical-align: top;\n",
       "    }\n",
       "\n",
       "    .dataframe thead th {\n",
       "        text-align: right;\n",
       "    }\n",
       "</style>\n",
       "<table border=\"1\" class=\"dataframe\">\n",
       "  <thead>\n",
       "    <tr style=\"text-align: right;\">\n",
       "      <th></th>\n",
       "      <th>0</th>\n",
       "      <th>1</th>\n",
       "      <th>2</th>\n",
       "      <th>3</th>\n",
       "      <th>4</th>\n",
       "      <th>5</th>\n",
       "      <th>6</th>\n",
       "      <th>7</th>\n",
       "      <th>8</th>\n",
       "      <th>9</th>\n",
       "      <th>10</th>\n",
       "      <th>11</th>\n",
       "      <th>12</th>\n",
       "    </tr>\n",
       "  </thead>\n",
       "  <tbody>\n",
       "    <tr>\n",
       "      <th>0</th>\n",
       "      <td>-383.432617</td>\n",
       "      <td>52.460812</td>\n",
       "      <td>-17.608944</td>\n",
       "      <td>-11.810311</td>\n",
       "      <td>-4.707630</td>\n",
       "      <td>7.513891</td>\n",
       "      <td>-25.082636</td>\n",
       "      <td>-6.948460</td>\n",
       "      <td>-10.093306</td>\n",
       "      <td>-3.254937</td>\n",
       "      <td>0.281038</td>\n",
       "      <td>0.656696</td>\n",
       "      <td>2.047499</td>\n",
       "    </tr>\n",
       "    <tr>\n",
       "      <th>1</th>\n",
       "      <td>-444.550110</td>\n",
       "      <td>65.292038</td>\n",
       "      <td>-2.571654</td>\n",
       "      <td>-20.355953</td>\n",
       "      <td>-10.516433</td>\n",
       "      <td>10.241208</td>\n",
       "      <td>-9.607938</td>\n",
       "      <td>-1.355310</td>\n",
       "      <td>-12.456924</td>\n",
       "      <td>2.827871</td>\n",
       "      <td>-9.535598</td>\n",
       "      <td>9.995904</td>\n",
       "      <td>-0.791078</td>\n",
       "    </tr>\n",
       "    <tr>\n",
       "      <th>2</th>\n",
       "      <td>-402.192657</td>\n",
       "      <td>26.256584</td>\n",
       "      <td>-5.023631</td>\n",
       "      <td>-0.407520</td>\n",
       "      <td>-0.952224</td>\n",
       "      <td>0.913046</td>\n",
       "      <td>-19.256067</td>\n",
       "      <td>-2.460230</td>\n",
       "      <td>-13.165890</td>\n",
       "      <td>-1.056540</td>\n",
       "      <td>-12.630615</td>\n",
       "      <td>7.668492</td>\n",
       "      <td>-0.763719</td>\n",
       "    </tr>\n",
       "    <tr>\n",
       "      <th>3</th>\n",
       "      <td>-383.497040</td>\n",
       "      <td>52.386791</td>\n",
       "      <td>-11.534899</td>\n",
       "      <td>-13.975940</td>\n",
       "      <td>-3.906754</td>\n",
       "      <td>6.814112</td>\n",
       "      <td>-21.693228</td>\n",
       "      <td>-7.680974</td>\n",
       "      <td>-13.304781</td>\n",
       "      <td>-3.169330</td>\n",
       "      <td>-1.643530</td>\n",
       "      <td>1.388642</td>\n",
       "      <td>0.603746</td>\n",
       "    </tr>\n",
       "    <tr>\n",
       "      <th>4</th>\n",
       "      <td>-398.562683</td>\n",
       "      <td>51.876442</td>\n",
       "      <td>3.370301</td>\n",
       "      <td>8.665921</td>\n",
       "      <td>3.880992</td>\n",
       "      <td>0.732045</td>\n",
       "      <td>-24.158323</td>\n",
       "      <td>7.486300</td>\n",
       "      <td>-19.511465</td>\n",
       "      <td>-12.444627</td>\n",
       "      <td>-11.401490</td>\n",
       "      <td>-1.805533</td>\n",
       "      <td>-4.849055</td>\n",
       "    </tr>\n",
       "    <tr>\n",
       "      <th>...</th>\n",
       "      <td>...</td>\n",
       "      <td>...</td>\n",
       "      <td>...</td>\n",
       "      <td>...</td>\n",
       "      <td>...</td>\n",
       "      <td>...</td>\n",
       "      <td>...</td>\n",
       "      <td>...</td>\n",
       "      <td>...</td>\n",
       "      <td>...</td>\n",
       "      <td>...</td>\n",
       "      <td>...</td>\n",
       "      <td>...</td>\n",
       "    </tr>\n",
       "    <tr>\n",
       "      <th>2795</th>\n",
       "      <td>-391.547699</td>\n",
       "      <td>61.473328</td>\n",
       "      <td>34.779984</td>\n",
       "      <td>42.554768</td>\n",
       "      <td>-2.182075</td>\n",
       "      <td>8.699821</td>\n",
       "      <td>-1.409615</td>\n",
       "      <td>-11.303340</td>\n",
       "      <td>0.550166</td>\n",
       "      <td>-4.555710</td>\n",
       "      <td>-5.787300</td>\n",
       "      <td>5.773145</td>\n",
       "      <td>-6.542877</td>\n",
       "    </tr>\n",
       "    <tr>\n",
       "      <th>2796</th>\n",
       "      <td>-404.340485</td>\n",
       "      <td>76.251541</td>\n",
       "      <td>25.959827</td>\n",
       "      <td>39.575932</td>\n",
       "      <td>0.379420</td>\n",
       "      <td>-0.940992</td>\n",
       "      <td>-6.228340</td>\n",
       "      <td>-14.371888</td>\n",
       "      <td>1.734153</td>\n",
       "      <td>-11.790402</td>\n",
       "      <td>-8.991035</td>\n",
       "      <td>2.880116</td>\n",
       "      <td>-9.387178</td>\n",
       "    </tr>\n",
       "    <tr>\n",
       "      <th>2797</th>\n",
       "      <td>-370.484589</td>\n",
       "      <td>65.668495</td>\n",
       "      <td>38.364941</td>\n",
       "      <td>41.208473</td>\n",
       "      <td>-4.550176</td>\n",
       "      <td>4.382659</td>\n",
       "      <td>-0.712864</td>\n",
       "      <td>-9.426854</td>\n",
       "      <td>2.177757</td>\n",
       "      <td>-7.615240</td>\n",
       "      <td>-7.580241</td>\n",
       "      <td>1.071735</td>\n",
       "      <td>-10.043199</td>\n",
       "    </tr>\n",
       "    <tr>\n",
       "      <th>2798</th>\n",
       "      <td>-423.077972</td>\n",
       "      <td>69.036842</td>\n",
       "      <td>29.720037</td>\n",
       "      <td>37.226368</td>\n",
       "      <td>-3.204174</td>\n",
       "      <td>13.681798</td>\n",
       "      <td>-3.380288</td>\n",
       "      <td>-12.161002</td>\n",
       "      <td>-0.653988</td>\n",
       "      <td>-4.454651</td>\n",
       "      <td>-6.846123</td>\n",
       "      <td>-2.102363</td>\n",
       "      <td>-7.402556</td>\n",
       "    </tr>\n",
       "    <tr>\n",
       "      <th>2799</th>\n",
       "      <td>-409.691040</td>\n",
       "      <td>53.418983</td>\n",
       "      <td>32.701664</td>\n",
       "      <td>39.789028</td>\n",
       "      <td>3.053331</td>\n",
       "      <td>6.652601</td>\n",
       "      <td>-2.778558</td>\n",
       "      <td>-10.420267</td>\n",
       "      <td>2.059204</td>\n",
       "      <td>-8.265667</td>\n",
       "      <td>-3.577104</td>\n",
       "      <td>1.435985</td>\n",
       "      <td>-7.021755</td>\n",
       "    </tr>\n",
       "  </tbody>\n",
       "</table>\n",
       "<p>2800 rows × 13 columns</p>\n",
       "</div>"
      ],
      "text/plain": [
       "              0          1          2          3          4          5   \\\n",
       "0    -383.432617  52.460812 -17.608944 -11.810311  -4.707630   7.513891   \n",
       "1    -444.550110  65.292038  -2.571654 -20.355953 -10.516433  10.241208   \n",
       "2    -402.192657  26.256584  -5.023631  -0.407520  -0.952224   0.913046   \n",
       "3    -383.497040  52.386791 -11.534899 -13.975940  -3.906754   6.814112   \n",
       "4    -398.562683  51.876442   3.370301   8.665921   3.880992   0.732045   \n",
       "...          ...        ...        ...        ...        ...        ...   \n",
       "2795 -391.547699  61.473328  34.779984  42.554768  -2.182075   8.699821   \n",
       "2796 -404.340485  76.251541  25.959827  39.575932   0.379420  -0.940992   \n",
       "2797 -370.484589  65.668495  38.364941  41.208473  -4.550176   4.382659   \n",
       "2798 -423.077972  69.036842  29.720037  37.226368  -3.204174  13.681798   \n",
       "2799 -409.691040  53.418983  32.701664  39.789028   3.053331   6.652601   \n",
       "\n",
       "             6          7          8          9          10        11  \\\n",
       "0    -25.082636  -6.948460 -10.093306  -3.254937   0.281038  0.656696   \n",
       "1     -9.607938  -1.355310 -12.456924   2.827871  -9.535598  9.995904   \n",
       "2    -19.256067  -2.460230 -13.165890  -1.056540 -12.630615  7.668492   \n",
       "3    -21.693228  -7.680974 -13.304781  -3.169330  -1.643530  1.388642   \n",
       "4    -24.158323   7.486300 -19.511465 -12.444627 -11.401490 -1.805533   \n",
       "...         ...        ...        ...        ...        ...       ...   \n",
       "2795  -1.409615 -11.303340   0.550166  -4.555710  -5.787300  5.773145   \n",
       "2796  -6.228340 -14.371888   1.734153 -11.790402  -8.991035  2.880116   \n",
       "2797  -0.712864  -9.426854   2.177757  -7.615240  -7.580241  1.071735   \n",
       "2798  -3.380288 -12.161002  -0.653988  -4.454651  -6.846123 -2.102363   \n",
       "2799  -2.778558 -10.420267   2.059204  -8.265667  -3.577104  1.435985   \n",
       "\n",
       "             12  \n",
       "0      2.047499  \n",
       "1     -0.791078  \n",
       "2     -0.763719  \n",
       "3      0.603746  \n",
       "4     -4.849055  \n",
       "...         ...  \n",
       "2795  -6.542877  \n",
       "2796  -9.387178  \n",
       "2797 -10.043199  \n",
       "2798  -7.402556  \n",
       "2799  -7.021755  \n",
       "\n",
       "[2800 rows x 13 columns]"
      ]
     },
     "execution_count": 13,
     "metadata": {},
     "output_type": "execute_result"
    }
   ],
   "source": [
    "mfccs = pd.DataFrame(mfccs)\n",
    "mfccs"
   ]
  },
  {
   "cell_type": "markdown",
   "id": "8f560719",
   "metadata": {},
   "source": [
    "## 6. Processing Data for Deep Learning"
   ]
  },
  {
   "cell_type": "markdown",
   "id": "f06debe2",
   "metadata": {},
   "source": [
    "#### Train Test Split"
   ]
  },
  {
   "cell_type": "code",
   "execution_count": 14,
   "id": "92971810",
   "metadata": {},
   "outputs": [],
   "source": [
    "feature_data = mfccs.values\n",
    "target = metadata['class']"
   ]
  },
  {
   "cell_type": "code",
   "execution_count": 15,
   "id": "8d2d2dd4",
   "metadata": {},
   "outputs": [],
   "source": [
    "x_train, x_test, y_train, y_test = train_test_split(feature_data, target)"
   ]
  },
  {
   "cell_type": "markdown",
   "id": "e83dc2ef",
   "metadata": {},
   "source": [
    "#### Checking Shapes"
   ]
  },
  {
   "cell_type": "code",
   "execution_count": 16,
   "id": "516f1df8",
   "metadata": {},
   "outputs": [
    {
     "data": {
      "text/plain": [
       "((2100, 13), (700, 13), (2100,), (700,))"
      ]
     },
     "execution_count": 16,
     "metadata": {},
     "output_type": "execute_result"
    }
   ],
   "source": [
    "x_train.shape, x_test.shape, y_train.shape, y_test.shape"
   ]
  },
  {
   "cell_type": "markdown",
   "id": "43b1fb05",
   "metadata": {},
   "source": [
    "#### Converting Data w.r.t Neural Network"
   ]
  },
  {
   "cell_type": "code",
   "execution_count": 17,
   "id": "f94ac47f",
   "metadata": {},
   "outputs": [],
   "source": [
    "x_train_reshaped = x_train.reshape(x_train.shape[0], 13, 1)\n",
    "y_train_reshaped = to_categorical(y_train, num_classes=len(set(target)), dtype='int')\n",
    "x_test_reshaped = x_test.reshape(x_test.shape[0], 13, 1)"
   ]
  },
  {
   "cell_type": "markdown",
   "id": "bb320d7a",
   "metadata": {},
   "source": [
    "## 7. Setting up Model for Deep Learning"
   ]
  },
  {
   "cell_type": "markdown",
   "id": "9635adb9",
   "metadata": {},
   "source": [
    "#### The Model that will be used will be a Sequentioal Convolutional Neural Networks\n",
    "<img src = \"CNN_img.jpg\"/>\n",
    "\n",
    "#### Why CNN?\n",
    "Convolutional Neural Networks (CNNs) are primarily associated with image processing, but they can also be adapted for audio classification tasks, such as speech recognition, music genre classification, or environmental sound classification. To apply CNNs to audio data, we can use a spectrogram representation and follow a similar architecture as in image-based CNNs"
   ]
  },
  {
   "cell_type": "markdown",
   "id": "9d03b7d2",
   "metadata": {},
   "source": [
    "#### Model Creation"
   ]
  },
  {
   "cell_type": "code",
   "execution_count": 18,
   "id": "cef66e85",
   "metadata": {},
   "outputs": [],
   "source": [
    "class Audio_Classification :\n",
    "    \n",
    "    def __init__(self) :\n",
    "        self.model = Sequential()\n",
    "        input_shape = (13, 1)\n",
    "        self.model.add(Conv1D(32, kernel_size=3, activation='selu', input_shape=input_shape))\n",
    "        self.model.add(MaxPooling1D(pool_size=2))\n",
    "        self.model.add(Conv1D(64, kernel_size=3, activation='selu'))\n",
    "        self.model.add(MaxPooling1D(pool_size=2))\n",
    "        self.model.add(Flatten())\n",
    "        self.model.add(Dense(128, activation='selu'))\n",
    "        self.model.add(Dense(14, activation='softmax'))\n",
    "        self.model.compile(loss = 'CategoricalCrossentropy', optimizer = 'adam', metrics = ['accuracy'])\n",
    "    \n",
    "    def fit(self, x, y, epochs) :\n",
    "        self.model.fit(x, y, epochs = epochs)\n",
    "\n",
    "    def predict(self, x) :\n",
    "        y_pred = self.model.predict(x)\n",
    "        for i in range(len(y_pred)) :\n",
    "            y_pred[i] = np.argmax(y_pred[i])\n",
    "        y_pred = np.array(y_pred[:, 0], dtype = int)\n",
    "        return y_pred"
   ]
  },
  {
   "cell_type": "markdown",
   "id": "2a29d86d",
   "metadata": {},
   "source": [
    "## 8. Training and Testing"
   ]
  },
  {
   "cell_type": "markdown",
   "id": "3b88b4ce",
   "metadata": {},
   "source": [
    "#### Creating Classifier"
   ]
  },
  {
   "cell_type": "code",
   "execution_count": 19,
   "id": "2d6098a4",
   "metadata": {},
   "outputs": [],
   "source": [
    "clf = Audio_Classification()"
   ]
  },
  {
   "cell_type": "markdown",
   "id": "ffdc6df3",
   "metadata": {},
   "source": [
    "#### Training"
   ]
  },
  {
   "cell_type": "code",
   "execution_count": 20,
   "id": "ccbc41fa",
   "metadata": {},
   "outputs": [
    {
     "name": "stdout",
     "output_type": "stream",
     "text": [
      "Epoch 1/100\n",
      "66/66 [==============================] - 1s 2ms/step - loss: 2.9700 - accuracy: 0.3962\n",
      "Epoch 2/100\n",
      "66/66 [==============================] - 0s 2ms/step - loss: 0.8146 - accuracy: 0.7181\n",
      "Epoch 3/100\n",
      "66/66 [==============================] - 0s 1ms/step - loss: 0.6503 - accuracy: 0.7576\n",
      "Epoch 4/100\n",
      "66/66 [==============================] - 0s 2ms/step - loss: 0.5479 - accuracy: 0.8005\n",
      "Epoch 5/100\n",
      "66/66 [==============================] - 0s 2ms/step - loss: 0.4847 - accuracy: 0.8267\n",
      "Epoch 6/100\n",
      "66/66 [==============================] - 0s 2ms/step - loss: 0.4334 - accuracy: 0.8443\n",
      "Epoch 7/100\n",
      "66/66 [==============================] - 0s 3ms/step - loss: 0.4072 - accuracy: 0.8452\n",
      "Epoch 8/100\n",
      "66/66 [==============================] - 0s 3ms/step - loss: 0.3786 - accuracy: 0.8533\n",
      "Epoch 9/100\n",
      "66/66 [==============================] - 0s 3ms/step - loss: 0.3261 - accuracy: 0.8867\n",
      "Epoch 10/100\n",
      "66/66 [==============================] - 0s 3ms/step - loss: 0.3434 - accuracy: 0.8757\n",
      "Epoch 11/100\n",
      "66/66 [==============================] - 0s 2ms/step - loss: 0.2978 - accuracy: 0.8905\n",
      "Epoch 12/100\n",
      "66/66 [==============================] - 0s 2ms/step - loss: 0.3397 - accuracy: 0.8757\n",
      "Epoch 13/100\n",
      "66/66 [==============================] - 0s 2ms/step - loss: 0.3065 - accuracy: 0.8919\n",
      "Epoch 14/100\n",
      "66/66 [==============================] - 0s 2ms/step - loss: 0.2946 - accuracy: 0.8929\n",
      "Epoch 15/100\n",
      "66/66 [==============================] - 0s 2ms/step - loss: 0.2633 - accuracy: 0.9029\n",
      "Epoch 16/100\n",
      "66/66 [==============================] - 0s 2ms/step - loss: 0.3021 - accuracy: 0.8938\n",
      "Epoch 17/100\n",
      "66/66 [==============================] - 0s 2ms/step - loss: 0.2651 - accuracy: 0.8971\n",
      "Epoch 18/100\n",
      "66/66 [==============================] - 0s 2ms/step - loss: 0.2570 - accuracy: 0.9019\n",
      "Epoch 19/100\n",
      "66/66 [==============================] - 0s 2ms/step - loss: 0.2915 - accuracy: 0.8890\n",
      "Epoch 20/100\n",
      "66/66 [==============================] - 0s 2ms/step - loss: 0.2508 - accuracy: 0.9038\n",
      "Epoch 21/100\n",
      "66/66 [==============================] - 0s 2ms/step - loss: 0.2274 - accuracy: 0.9167\n",
      "Epoch 22/100\n",
      "66/66 [==============================] - 0s 2ms/step - loss: 0.2358 - accuracy: 0.9071\n",
      "Epoch 23/100\n",
      "66/66 [==============================] - 0s 2ms/step - loss: 0.2218 - accuracy: 0.9219\n",
      "Epoch 24/100\n",
      "66/66 [==============================] - 0s 2ms/step - loss: 0.2201 - accuracy: 0.9214\n",
      "Epoch 25/100\n",
      "66/66 [==============================] - 0s 2ms/step - loss: 0.2135 - accuracy: 0.9195\n",
      "Epoch 26/100\n",
      "66/66 [==============================] - 0s 2ms/step - loss: 0.2250 - accuracy: 0.9148\n",
      "Epoch 27/100\n",
      "66/66 [==============================] - 0s 2ms/step - loss: 0.2646 - accuracy: 0.9033\n",
      "Epoch 28/100\n",
      "66/66 [==============================] - 0s 2ms/step - loss: 0.2431 - accuracy: 0.9105\n",
      "Epoch 29/100\n",
      "66/66 [==============================] - 0s 2ms/step - loss: 0.2333 - accuracy: 0.9110\n",
      "Epoch 30/100\n",
      "66/66 [==============================] - 0s 2ms/step - loss: 0.2167 - accuracy: 0.9229\n",
      "Epoch 31/100\n",
      "66/66 [==============================] - 0s 2ms/step - loss: 0.1833 - accuracy: 0.9329\n",
      "Epoch 32/100\n",
      "66/66 [==============================] - 0s 2ms/step - loss: 0.1797 - accuracy: 0.9329\n",
      "Epoch 33/100\n",
      "66/66 [==============================] - 0s 2ms/step - loss: 0.1872 - accuracy: 0.9286\n",
      "Epoch 34/100\n",
      "66/66 [==============================] - 0s 2ms/step - loss: 0.1804 - accuracy: 0.9357\n",
      "Epoch 35/100\n",
      "66/66 [==============================] - 0s 2ms/step - loss: 0.1834 - accuracy: 0.9300\n",
      "Epoch 36/100\n",
      "66/66 [==============================] - 0s 2ms/step - loss: 0.1762 - accuracy: 0.9319\n",
      "Epoch 37/100\n",
      "66/66 [==============================] - 0s 2ms/step - loss: 0.1866 - accuracy: 0.9314\n",
      "Epoch 38/100\n",
      "66/66 [==============================] - 0s 2ms/step - loss: 0.1877 - accuracy: 0.9248\n",
      "Epoch 39/100\n",
      "66/66 [==============================] - 0s 2ms/step - loss: 0.1766 - accuracy: 0.9338\n",
      "Epoch 40/100\n",
      "66/66 [==============================] - 0s 1ms/step - loss: 0.1739 - accuracy: 0.9367\n",
      "Epoch 41/100\n",
      "66/66 [==============================] - 0s 2ms/step - loss: 0.1985 - accuracy: 0.9257\n",
      "Epoch 42/100\n",
      "66/66 [==============================] - 0s 2ms/step - loss: 0.1982 - accuracy: 0.9200\n",
      "Epoch 43/100\n",
      "66/66 [==============================] - 0s 2ms/step - loss: 0.1669 - accuracy: 0.9329\n",
      "Epoch 44/100\n",
      "66/66 [==============================] - 0s 2ms/step - loss: 0.1639 - accuracy: 0.9386\n",
      "Epoch 45/100\n",
      "66/66 [==============================] - 0s 1ms/step - loss: 0.1535 - accuracy: 0.9400\n",
      "Epoch 46/100\n",
      "66/66 [==============================] - 0s 2ms/step - loss: 0.1678 - accuracy: 0.9362\n",
      "Epoch 47/100\n",
      "66/66 [==============================] - 0s 2ms/step - loss: 0.1449 - accuracy: 0.9419\n",
      "Epoch 48/100\n",
      "66/66 [==============================] - 0s 2ms/step - loss: 0.1297 - accuracy: 0.9510\n",
      "Epoch 49/100\n",
      "66/66 [==============================] - 0s 2ms/step - loss: 0.1411 - accuracy: 0.9543\n",
      "Epoch 50/100\n",
      "66/66 [==============================] - 0s 2ms/step - loss: 0.1328 - accuracy: 0.9471\n",
      "Epoch 51/100\n",
      "66/66 [==============================] - 0s 2ms/step - loss: 0.1294 - accuracy: 0.9490\n",
      "Epoch 52/100\n",
      "66/66 [==============================] - 0s 2ms/step - loss: 0.1712 - accuracy: 0.9314\n",
      "Epoch 53/100\n",
      "66/66 [==============================] - 0s 2ms/step - loss: 0.1295 - accuracy: 0.9519\n",
      "Epoch 54/100\n",
      "66/66 [==============================] - 0s 2ms/step - loss: 0.1562 - accuracy: 0.9443\n",
      "Epoch 55/100\n",
      "66/66 [==============================] - 0s 2ms/step - loss: 0.1269 - accuracy: 0.9514\n",
      "Epoch 56/100\n",
      "66/66 [==============================] - 0s 1ms/step - loss: 0.1173 - accuracy: 0.9533\n",
      "Epoch 57/100\n",
      "66/66 [==============================] - 0s 2ms/step - loss: 0.1359 - accuracy: 0.9524\n",
      "Epoch 58/100\n",
      "66/66 [==============================] - 0s 2ms/step - loss: 0.1274 - accuracy: 0.9486\n",
      "Epoch 59/100\n",
      "66/66 [==============================] - 0s 1ms/step - loss: 0.1279 - accuracy: 0.9514\n",
      "Epoch 60/100\n",
      "66/66 [==============================] - 0s 2ms/step - loss: 0.1195 - accuracy: 0.9562\n",
      "Epoch 61/100\n",
      "66/66 [==============================] - 0s 2ms/step - loss: 0.1041 - accuracy: 0.9614\n",
      "Epoch 62/100\n",
      "66/66 [==============================] - 0s 1ms/step - loss: 0.1068 - accuracy: 0.9600\n",
      "Epoch 63/100\n",
      "66/66 [==============================] - 0s 1ms/step - loss: 0.1093 - accuracy: 0.9595\n",
      "Epoch 64/100\n",
      "66/66 [==============================] - 0s 1ms/step - loss: 0.1181 - accuracy: 0.9571\n",
      "Epoch 65/100\n",
      "66/66 [==============================] - 0s 2ms/step - loss: 0.1247 - accuracy: 0.9510\n",
      "Epoch 66/100\n",
      "66/66 [==============================] - 0s 1ms/step - loss: 0.1194 - accuracy: 0.9543\n",
      "Epoch 67/100\n",
      "66/66 [==============================] - 0s 1ms/step - loss: 0.1170 - accuracy: 0.9552\n",
      "Epoch 68/100\n",
      "66/66 [==============================] - 0s 1ms/step - loss: 0.1004 - accuracy: 0.9652\n",
      "Epoch 69/100\n",
      "66/66 [==============================] - 0s 1ms/step - loss: 0.0871 - accuracy: 0.9690\n",
      "Epoch 70/100\n",
      "66/66 [==============================] - 0s 2ms/step - loss: 0.1096 - accuracy: 0.9576\n",
      "Epoch 71/100\n",
      "66/66 [==============================] - 0s 2ms/step - loss: 0.1289 - accuracy: 0.9505\n",
      "Epoch 72/100\n",
      "66/66 [==============================] - 0s 1ms/step - loss: 0.1356 - accuracy: 0.9467\n",
      "Epoch 73/100\n",
      "66/66 [==============================] - 0s 2ms/step - loss: 0.0856 - accuracy: 0.9695\n",
      "Epoch 74/100\n",
      "66/66 [==============================] - 0s 1ms/step - loss: 0.0953 - accuracy: 0.9633\n",
      "Epoch 75/100\n",
      "66/66 [==============================] - 0s 2ms/step - loss: 0.1137 - accuracy: 0.9543\n",
      "Epoch 76/100\n",
      "66/66 [==============================] - 0s 1ms/step - loss: 0.1200 - accuracy: 0.9557\n",
      "Epoch 77/100\n",
      "66/66 [==============================] - 0s 2ms/step - loss: 0.1156 - accuracy: 0.9557\n",
      "Epoch 78/100\n",
      "66/66 [==============================] - 0s 2ms/step - loss: 0.1093 - accuracy: 0.9533\n",
      "Epoch 79/100\n",
      "66/66 [==============================] - 0s 1ms/step - loss: 0.0669 - accuracy: 0.9762\n",
      "Epoch 80/100\n",
      "66/66 [==============================] - 0s 1ms/step - loss: 0.0778 - accuracy: 0.9719\n",
      "Epoch 81/100\n",
      "66/66 [==============================] - 0s 2ms/step - loss: 0.1090 - accuracy: 0.9571\n",
      "Epoch 82/100\n",
      "66/66 [==============================] - 0s 2ms/step - loss: 0.0894 - accuracy: 0.9671\n",
      "Epoch 83/100\n"
     ]
    },
    {
     "name": "stdout",
     "output_type": "stream",
     "text": [
      "66/66 [==============================] - 0s 1ms/step - loss: 0.0859 - accuracy: 0.9671\n",
      "Epoch 84/100\n",
      "66/66 [==============================] - 0s 2ms/step - loss: 0.0759 - accuracy: 0.9738\n",
      "Epoch 85/100\n",
      "66/66 [==============================] - 0s 2ms/step - loss: 0.0706 - accuracy: 0.9733\n",
      "Epoch 86/100\n",
      "66/66 [==============================] - 0s 2ms/step - loss: 0.0694 - accuracy: 0.9748\n",
      "Epoch 87/100\n",
      "66/66 [==============================] - 0s 2ms/step - loss: 0.0664 - accuracy: 0.9786\n",
      "Epoch 88/100\n",
      "66/66 [==============================] - 0s 2ms/step - loss: 0.1019 - accuracy: 0.9595\n",
      "Epoch 89/100\n",
      "66/66 [==============================] - 0s 2ms/step - loss: 0.0950 - accuracy: 0.9629\n",
      "Epoch 90/100\n",
      "66/66 [==============================] - 0s 2ms/step - loss: 0.1243 - accuracy: 0.9586\n",
      "Epoch 91/100\n",
      "66/66 [==============================] - 0s 2ms/step - loss: 0.0672 - accuracy: 0.9738\n",
      "Epoch 92/100\n",
      "66/66 [==============================] - 0s 1ms/step - loss: 0.0549 - accuracy: 0.9800\n",
      "Epoch 93/100\n",
      "66/66 [==============================] - 0s 2ms/step - loss: 0.0760 - accuracy: 0.9695\n",
      "Epoch 94/100\n",
      "66/66 [==============================] - 0s 2ms/step - loss: 0.0565 - accuracy: 0.9805\n",
      "Epoch 95/100\n",
      "66/66 [==============================] - 0s 1ms/step - loss: 0.0567 - accuracy: 0.9805\n",
      "Epoch 96/100\n",
      "66/66 [==============================] - 0s 2ms/step - loss: 0.0434 - accuracy: 0.9829\n",
      "Epoch 97/100\n",
      "66/66 [==============================] - 0s 2ms/step - loss: 0.0721 - accuracy: 0.9729\n",
      "Epoch 98/100\n",
      "66/66 [==============================] - 0s 1ms/step - loss: 0.0487 - accuracy: 0.9848\n",
      "Epoch 99/100\n",
      "66/66 [==============================] - 0s 1ms/step - loss: 0.0388 - accuracy: 0.9881\n",
      "Epoch 100/100\n",
      "66/66 [==============================] - 0s 1ms/step - loss: 0.0441 - accuracy: 0.9857\n"
     ]
    }
   ],
   "source": [
    "clf.fit(x_train_reshaped, y_train_reshaped, epochs = 100)"
   ]
  },
  {
   "cell_type": "markdown",
   "id": "9a29d444",
   "metadata": {},
   "source": [
    "#### Testing"
   ]
  },
  {
   "cell_type": "code",
   "execution_count": 21,
   "id": "4397dde9",
   "metadata": {},
   "outputs": [
    {
     "name": "stdout",
     "output_type": "stream",
     "text": [
      "22/22 [==============================] - 0s 1ms/step\n"
     ]
    },
    {
     "data": {
      "text/plain": [
       "array([ 8,  4,  9,  4, 10,  8,  3,  1,  1,  6,  2, 10, 12, 11,  3,  7, 12,\n",
       "        1,  8,  9,  7, 13, 11,  6, 11,  0,  3, 10,  3,  0,  9, 10, 11,  9,\n",
       "       13,  3,  0, 13,  7,  0,  8, 10, 13,  4,  7, 11,  1,  4, 13,  3,  0,\n",
       "        8, 12,  4,  1,  1, 12,  7, 11,  4,  8,  2,  4, 12,  5,  4, 10, 11,\n",
       "        1,  7, 11,  4,  9, 12,  4, 13,  4,  2,  5,  1, 11,  3, 10,  0, 10,\n",
       "        4,  5, 10,  2, 13,  9,  4, 10,  2,  2,  5,  8,  1,  8,  5,  3, 13,\n",
       "       12,  3,  0, 13,  8,  5,  2,  3,  3, 13,  2,  7, 11, 10,  2,  6,  8,\n",
       "        6,  4,  2,  8, 13,  2,  5,  8,  3,  0,  2, 11,  6,  7, 13,  9,  6,\n",
       "        3,  5,  3,  0,  2, 12, 12,  7,  1,  0, 11,  3,  5,  4,  1,  9, 10,\n",
       "       12,  7,  9,  1,  2,  7,  6,  4, 11, 12,  5,  6,  2, 11,  0,  1,  8,\n",
       "        9,  4,  1,  3, 10, 11,  1, 13,  9,  0,  8,  6,  1, 11, 11, 11,  0,\n",
       "        4,  2,  6,  6,  1,  1,  4, 13,  0, 12,  5,  7,  7,  9,  4, 13, 13,\n",
       "        6, 10,  4,  5,  3,  0,  6,  5,  2,  6,  4,  8,  1,  6, 11, 12,  1,\n",
       "        9, 11, 11,  8,  0, 13,  7,  0,  7,  8, 12,  5,  7,  0, 10,  2,  8,\n",
       "       13,  5,  3, 10,  7,  0,  0,  0,  0, 12, 11,  8,  0,  5,  7, 10,  2,\n",
       "        2,  4,  4,  3,  4, 12, 10, 10,  3,  5, 10,  0,  9,  4,  2,  5,  6,\n",
       "        2,  1,  0, 13,  0, 12,  7,  3,  7,  8, 11,  7,  3,  8, 13,  1,  0,\n",
       "        0, 10,  0,  7,  9,  5,  0, 10, 12,  1,  9, 13,  0,  3, 13,  2,  6,\n",
       "       12, 12,  6,  6, 11, 12,  8,  9,  0,  8,  3, 11,  1,  1, 10, 10, 11,\n",
       "        8,  3,  6,  5,  4, 12,  9,  6, 10,  6,  4,  2,  7,  5,  2, 10, 10,\n",
       "        1,  7,  8,  8, 11,  0,  2,  0,  3,  1, 10,  3, 10,  5, 11,  2, 12,\n",
       "        4,  4, 10,  3, 10,  5, 12, 10, 12,  9,  5,  6,  8,  8,  7,  6,  9,\n",
       "        7,  0, 10, 13,  7, 12,  1,  6, 12,  7,  6,  0,  0, 12,  7, 11,  8,\n",
       "       12,  3,  3, 10, 12,  3, 12, 11,  7, 10, 10,  4,  2,  0,  3, 10,  3,\n",
       "        6,  0,  1,  9,  1, 12,  0, 11,  3, 11,  9, 10,  9,  8, 11,  1, 12,\n",
       "       11, 11, 12, 11,  4,  7,  2,  5,  8, 12,  6,  4,  5,  8,  6,  0,  0,\n",
       "       13,  9, 12,  8,  0, 10,  8, 12, 13,  8,  7,  1, 10,  9,  1,  1,  2,\n",
       "        5,  9,  3,  7,  8, 10,  6,  5,  9, 11,  9,  4,  2, 12,  2,  4, 12,\n",
       "        6,  2, 11,  6,  2, 12, 11,  4,  4,  7,  6,  7, 12,  9,  6,  4, 11,\n",
       "        3, 10, 12,  1,  7,  7,  8,  0,  5, 13,  1, 10, 11,  9, 12,  9,  7,\n",
       "        6, 11, 12,  0,  5, 11,  4, 12, 10,  0,  3,  1, 13,  4,  5,  9,  9,\n",
       "        1,  8,  2,  1,  0, 10,  3,  4,  4,  5,  4, 13,  0,  5,  4, 10,  8,\n",
       "        5,  8,  2,  5,  0,  2, 11, 12,  5,  1, 12, 10,  4,  3, 13,  5, 13,\n",
       "        0, 11,  5, 10, 13,  8, 12,  0,  6,  7,  7, 11,  5,  8,  4, 13,  8,\n",
       "       12,  8, 10, 12,  7,  0,  8,  1,  5,  0, 13,  2,  4,  9,  7,  2,  6,\n",
       "        0,  0, 11, 10, 13, 11,  9,  8,  7,  7,  6,  1, 11,  4,  8,  8,  8,\n",
       "        9,  7, 10,  8,  6,  2,  1,  6,  2, 10, 12,  5, 10, 13, 13, 10, 11,\n",
       "        4,  1, 13,  1,  5, 10,  2,  7,  8,  5,  0, 11,  5, 13,  9,  5,  6,\n",
       "        0,  8,  9, 13,  9,  3, 12,  4, 11,  8, 13, 12, 12,  8,  6,  8,  0,\n",
       "        5,  0,  0,  5,  1,  2,  7,  6, 13,  6,  1, 11, 11,  1,  7,  6,  4,\n",
       "        5,  6,  5,  8,  0, 11,  8, 12,  0,  6,  5,  4,  3, 12,  8, 12,  3,\n",
       "        4, 13,  5])"
      ]
     },
     "execution_count": 21,
     "metadata": {},
     "output_type": "execute_result"
    }
   ],
   "source": [
    "y_pred = clf.predict(x_test_reshaped)\n",
    "y_pred"
   ]
  },
  {
   "cell_type": "markdown",
   "id": "4a72a103",
   "metadata": {},
   "source": [
    "## 9. Results"
   ]
  },
  {
   "cell_type": "code",
   "execution_count": 22,
   "id": "c312ba4b",
   "metadata": {},
   "outputs": [
    {
     "name": "stdout",
     "output_type": "stream",
     "text": [
      "[[57  0  0  0  0  0  0  0  0  0  0  0  0  0]\n",
      " [ 0 41  0  0  1  4  0  0  0  0  0  0  0  0]\n",
      " [ 4  0 36  7  0  3  0  0  0  0  0  0  1  0]\n",
      " [ 0  4  6 30  0  6  0  0  0  0  0  0  0  0]\n",
      " [ 0  1  1  0 50  1  1  0  0  0  0  0  0  0]\n",
      " [ 1  2  0  5  0 37  0  0  0  0  0  0  0  0]\n",
      " [ 0  0  0  0  2  0 44  0  0  0  0  0  0  0]\n",
      " [ 0  0  0  0  0  0  0 44  1  0  2  1  0  0]\n",
      " [ 0  0  0  0  0  0  0  0 52  0  0  0  0  0]\n",
      " [ 0  0  0  0  0  0  2  2  0 37  0  0  3  0]\n",
      " [ 0  0  0  0  0  0  0  2  1  2 53  1  0  0]\n",
      " [ 0  0  0  0  0  0  0  0  1  0  0 51  0  1]\n",
      " [ 0  0  0  0  0  0  0  0  2  0  0  0 53  0]\n",
      " [ 0  0  0  0  0  0  0  0  1  0  0  2  0 41]]\n",
      "              precision    recall  f1-score   support\n",
      "\n",
      "           0       0.92      1.00      0.96        57\n",
      "           1       0.85      0.89      0.87        46\n",
      "           2       0.84      0.71      0.77        51\n",
      "           3       0.71      0.65      0.68        46\n",
      "           4       0.94      0.93      0.93        54\n",
      "           5       0.73      0.82      0.77        45\n",
      "           6       0.94      0.96      0.95        46\n",
      "           7       0.92      0.92      0.92        48\n",
      "           8       0.90      1.00      0.95        52\n",
      "           9       0.95      0.84      0.89        44\n",
      "          10       0.96      0.90      0.93        59\n",
      "          11       0.93      0.96      0.94        53\n",
      "          12       0.93      0.96      0.95        55\n",
      "          13       0.98      0.93      0.95        44\n",
      "\n",
      "    accuracy                           0.89       700\n",
      "   macro avg       0.89      0.89      0.89       700\n",
      "weighted avg       0.89      0.89      0.89       700\n",
      "\n",
      "Accuracy :  89.42857142857143 %\n"
     ]
    }
   ],
   "source": [
    "print(confusion_matrix(y_test, y_pred))\n",
    "print(classification_report(y_test, y_pred))\n",
    "print(\"Accuracy : \",accuracy_score(y_test, y_pred) * 100, '%')"
   ]
  },
  {
   "cell_type": "markdown",
   "id": "4d05b565",
   "metadata": {},
   "source": [
    "### Submitted By - Prateek Sarna, Ayushi"
   ]
  }
 ],
 "metadata": {
  "kernelspec": {
   "display_name": "Python 3 (ipykernel)",
   "language": "python",
   "name": "python3"
  },
  "language_info": {
   "codemirror_mode": {
    "name": "ipython",
    "version": 3
   },
   "file_extension": ".py",
   "mimetype": "text/x-python",
   "name": "python",
   "nbconvert_exporter": "python",
   "pygments_lexer": "ipython3",
   "version": "3.11.5"
  }
 },
 "nbformat": 4,
 "nbformat_minor": 5
}
